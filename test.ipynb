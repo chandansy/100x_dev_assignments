{
 "cells": [
  {
   "cell_type": "code",
   "execution_count": 1,
   "metadata": {},
   "outputs": [],
   "source": [
    "transactions = [{\n",
    "        \"id\": 1,\n",
    "        \"timestamp\": 1656076800000,\n",
    "        \"price\": 10,\n",
    "        \"category\": 'Food',\n",
    "        \"itemName\": 'Pizza',\n",
    "    },{\n",
    "        \"id\": 1,\n",
    "        \"timestamp\": 1656076800000,\n",
    "        \"price\": 10,\n",
    "        \"category\": 'Transportation',\n",
    "        \"itemName\": 'Pizza',\n",
    "    },{\n",
    "        \"id\": 1,\n",
    "        \"timestamp\": 1656076800000,\n",
    "        \"price\": 10,\n",
    "        \"category\": 'Rent',\n",
    "        \"itemName\": 'Pizza',\n",
    "    },{\n",
    "        \"id\": 1,\n",
    "        \"timestamp\": 1656076800000,\n",
    "        \"price\": 10,\n",
    "        \"category\": 'Medical',\n",
    "        \"itemName\": 'Pizza',\n",
    "    },{\n",
    "        \"id\": 1,\n",
    "        \"timestamp\": 1656076800000,\n",
    "        \"price\": 10,\n",
    "        \"category\": 'Food',\n",
    "        \"itemName\": 'Pizza',\n",
    "    }]"
   ]
  }
 ],
 "metadata": {
  "kernelspec": {
   "display_name": "Python 3",
   "language": "python",
   "name": "python3"
  },
  "language_info": {
   "codemirror_mode": {
    "name": "ipython",
    "version": 3
   },
   "file_extension": ".py",
   "mimetype": "text/x-python",
   "name": "python",
   "nbconvert_exporter": "python",
   "pygments_lexer": "ipython3",
   "version": "3.8.0"
  }
 },
 "nbformat": 4,
 "nbformat_minor": 2
}
